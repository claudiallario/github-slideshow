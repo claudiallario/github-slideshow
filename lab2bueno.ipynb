{
  "nbformat": 4,
  "nbformat_minor": 0,
  "metadata": {
    "colab": {
      "name": "lab2.ipynb",
      "provenance": [],
      "authorship_tag": "ABX9TyNOjPyECey4SrKg8/E97di2",
      "include_colab_link": true
    },
    "kernelspec": {
      "name": "python3",
      "display_name": "Python 3"
    }
  },
  "cells": [
    {
      "cell_type": "markdown",
      "metadata": {
        "id": "view-in-github",
        "colab_type": "text"
      },
      "source": [
        "<a href=\"https://colab.research.google.com/github/claudiallario/github-slideshow/blob/master/lab2bueno.ipynb\" target=\"_parent\"><img src=\"https://colab.research.google.com/assets/colab-badge.svg\" alt=\"Open In Colab\"/></a>"
      ]
    },
    {
      "cell_type": "code",
      "metadata": {
        "id": "hXFxuwBfJ3je",
        "outputId": "ef896d34-d70c-4e28-b674-1cdb7a633599",
        "colab": {
          "base_uri": "https://localhost:8080/",
          "height": 34
        }
      },
      "source": [
        "def clase_energetica(IEE):\n",
        "  if IEE<22:\n",
        "    return \"A+++\"\n",
        "  elif IEE>=22 and IEE<33:\n",
        "    return \"A++\"\n",
        "#...\n",
        "  else:\n",
        "    return \"G\"\n",
        "print (clase_energetica(21))"
      ],
      "execution_count": 1,
      "outputs": [
        {
          "output_type": "stream",
          "text": [
            "A+++\n"
          ],
          "name": "stdout"
        }
      ]
    },
    {
      "cell_type": "code",
      "metadata": {
        "id": "piGDExLTLjTD"
      },
      "source": [
        "def seccion(Imax):\n",
        "  "
      ],
      "execution_count": null,
      "outputs": []
    }
  ]
}